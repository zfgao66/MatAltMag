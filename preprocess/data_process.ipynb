{
 "cells": [
  {
   "cell_type": "code",
   "execution_count": 5,
   "id": "25a0197c-0f93-457f-b5a2-08cf29c7f714",
   "metadata": {
    "tags": []
   },
   "outputs": [],
   "source": [
    "from mp_api.client import MPRester\n",
    "import numpy as np\n",
    "import re\n",
    "from tqdm import tqdm\n",
    "import pickle\n",
    "import copy"
   ]
  },
  {
   "cell_type": "code",
   "execution_count": 6,
   "id": "2fe50691-8def-4923-a5fb-b16b6bfbf838",
   "metadata": {},
   "outputs": [],
   "source": [
    "My_api_key = \"Ead63fZDGQYh6UElvtbcEpYTcZk6WTjZ\"\n",
    "\n",
    "material_name = ['Ti', 'V', 'Cr', 'Mn', 'Fe', 'Co', 'Ni', 'Cu', 'Zn', 'Ce', 'Pr', 'Nd', 'Pm', 'Sm', 'Eu', 'Gd', 'Tb', 'Dy', 'Ho', 'Er', 'Tm', 'Yb']"
   ]
  },
  {
   "cell_type": "code",
   "execution_count": 7,
   "id": "6c292c96-e884-4490-9bd3-e950e2b877d9",
   "metadata": {
    "collapsed": true,
    "jupyter": {
     "outputs_hidden": true
    },
    "tags": []
   },
   "outputs": [
    {
     "name": "stderr",
     "output_type": "stream",
     "text": [
      "  0%|          | 0/22 [00:00<?, ?it/s]/home/bochengzeng/Programs/anaconda3/envs/crystal/lib/python3.9/site-packages/mp_api/client/mprester.py:182: UserWarning: mpcontribs-client not installed. Install the package to query MPContribs data, or construct pourbaix diagrams: 'pip install mpcontribs-client'\n",
      "  warnings.warn(\n"
     ]
    },
    {
     "data": {
      "text/plain": "Retrieving SummaryDoc documents:   0%|          | 0/7721 [00:00<?, ?it/s]",
      "application/vnd.jupyter.widget-view+json": {
       "version_major": 2,
       "version_minor": 0,
       "model_id": "4d231cba8fbd466283dc7477bf0f00f1"
      }
     },
     "metadata": {},
     "output_type": "display_data"
    },
    {
     "name": "stderr",
     "output_type": "stream",
     "text": [
      "  5%|▍         | 1/22 [00:04<01:30,  4.30s/it]"
     ]
    },
    {
     "data": {
      "text/plain": "Retrieving SummaryDoc documents:   0%|          | 0/9703 [00:00<?, ?it/s]",
      "application/vnd.jupyter.widget-view+json": {
       "version_major": 2,
       "version_minor": 0,
       "model_id": "a82e0b80e4304f4fbb788ddd1c3648b7"
      }
     },
     "metadata": {},
     "output_type": "display_data"
    },
    {
     "name": "stderr",
     "output_type": "stream",
     "text": [
      "  9%|▉         | 2/22 [00:08<01:27,  4.40s/it]"
     ]
    },
    {
     "data": {
      "text/plain": "Retrieving SummaryDoc documents:   0%|          | 0/6774 [00:00<?, ?it/s]",
      "application/vnd.jupyter.widget-view+json": {
       "version_major": 2,
       "version_minor": 0,
       "model_id": "92ebc8ee566045eeb909e844fbe5ce4b"
      }
     },
     "metadata": {},
     "output_type": "display_data"
    },
    {
     "name": "stderr",
     "output_type": "stream",
     "text": [
      " 14%|█▎        | 3/22 [00:12<01:21,  4.28s/it]"
     ]
    },
    {
     "data": {
      "text/plain": "Retrieving SummaryDoc documents:   0%|          | 0/13966 [00:00<?, ?it/s]",
      "application/vnd.jupyter.widget-view+json": {
       "version_major": 2,
       "version_minor": 0,
       "model_id": "130b1f181f244ab0a7144058290117b8"
      }
     },
     "metadata": {},
     "output_type": "display_data"
    },
    {
     "name": "stderr",
     "output_type": "stream",
     "text": [
      " 18%|█▊        | 4/22 [00:15<01:07,  3.74s/it]"
     ]
    },
    {
     "data": {
      "text/plain": "Retrieving SummaryDoc documents:   0%|          | 0/12889 [00:00<?, ?it/s]",
      "application/vnd.jupyter.widget-view+json": {
       "version_major": 2,
       "version_minor": 0,
       "model_id": "9a717eff18c0464089f46ce20481e385"
      }
     },
     "metadata": {},
     "output_type": "display_data"
    },
    {
     "name": "stderr",
     "output_type": "stream",
     "text": [
      " 23%|██▎       | 5/22 [00:19<01:02,  3.66s/it]"
     ]
    },
    {
     "data": {
      "text/plain": "Retrieving SummaryDoc documents:   0%|          | 0/11045 [00:00<?, ?it/s]",
      "application/vnd.jupyter.widget-view+json": {
       "version_major": 2,
       "version_minor": 0,
       "model_id": "955281291d264a49a3eae76fbd911dbf"
      }
     },
     "metadata": {},
     "output_type": "display_data"
    },
    {
     "name": "stderr",
     "output_type": "stream",
     "text": [
      " 27%|██▋       | 6/22 [00:23<01:02,  3.91s/it]"
     ]
    },
    {
     "data": {
      "text/plain": "Retrieving SummaryDoc documents:   0%|          | 0/8293 [00:00<?, ?it/s]",
      "application/vnd.jupyter.widget-view+json": {
       "version_major": 2,
       "version_minor": 0,
       "model_id": "e01ed29549f34bc4b3f802ed5f89c85a"
      }
     },
     "metadata": {},
     "output_type": "display_data"
    },
    {
     "name": "stderr",
     "output_type": "stream",
     "text": [
      " 32%|███▏      | 7/22 [00:27<00:58,  3.93s/it]"
     ]
    },
    {
     "data": {
      "text/plain": "Retrieving SummaryDoc documents:   0%|          | 0/9903 [00:00<?, ?it/s]",
      "application/vnd.jupyter.widget-view+json": {
       "version_major": 2,
       "version_minor": 0,
       "model_id": "68928203a78649ffa92cb6732889c695"
      }
     },
     "metadata": {},
     "output_type": "display_data"
    },
    {
     "name": "stderr",
     "output_type": "stream",
     "text": [
      " 36%|███▋      | 8/22 [00:31<00:54,  3.86s/it]"
     ]
    },
    {
     "data": {
      "text/plain": "Retrieving SummaryDoc documents:   0%|          | 0/6905 [00:00<?, ?it/s]",
      "application/vnd.jupyter.widget-view+json": {
       "version_major": 2,
       "version_minor": 0,
       "model_id": "4f3090c50e934794a5e510d4c1afe6b1"
      }
     },
     "metadata": {},
     "output_type": "display_data"
    },
    {
     "name": "stderr",
     "output_type": "stream",
     "text": [
      " 41%|████      | 9/22 [00:35<00:52,  4.02s/it]"
     ]
    },
    {
     "data": {
      "text/plain": "Retrieving SummaryDoc documents:   0%|          | 0/3271 [00:00<?, ?it/s]",
      "application/vnd.jupyter.widget-view+json": {
       "version_major": 2,
       "version_minor": 0,
       "model_id": "b64eb0d2851f484d94b79e2daaf81f7d"
      }
     },
     "metadata": {},
     "output_type": "display_data"
    },
    {
     "name": "stderr",
     "output_type": "stream",
     "text": [
      " 45%|████▌     | 10/22 [00:38<00:41,  3.48s/it]"
     ]
    },
    {
     "data": {
      "text/plain": "Retrieving SummaryDoc documents:   0%|          | 0/2894 [00:00<?, ?it/s]",
      "application/vnd.jupyter.widget-view+json": {
       "version_major": 2,
       "version_minor": 0,
       "model_id": "4f851527d7724103a0ec29fb22edb076"
      }
     },
     "metadata": {},
     "output_type": "display_data"
    },
    {
     "name": "stderr",
     "output_type": "stream",
     "text": [
      " 50%|█████     | 11/22 [00:40<00:36,  3.31s/it]"
     ]
    },
    {
     "data": {
      "text/plain": "Retrieving SummaryDoc documents:   0%|          | 0/3234 [00:00<?, ?it/s]",
      "application/vnd.jupyter.widget-view+json": {
       "version_major": 2,
       "version_minor": 0,
       "model_id": "55cfa24f905145a28f88a3bebc8117b1"
      }
     },
     "metadata": {},
     "output_type": "display_data"
    },
    {
     "name": "stderr",
     "output_type": "stream",
     "text": [
      " 55%|█████▍    | 12/22 [00:43<00:30,  3.03s/it]"
     ]
    },
    {
     "data": {
      "text/plain": "Retrieving SummaryDoc documents:   0%|          | 0/537 [00:00<?, ?it/s]",
      "application/vnd.jupyter.widget-view+json": {
       "version_major": 2,
       "version_minor": 0,
       "model_id": "886b6fa94b0e4c29982e97de025c760d"
      }
     },
     "metadata": {},
     "output_type": "display_data"
    },
    {
     "name": "stderr",
     "output_type": "stream",
     "text": [
      " 59%|█████▉    | 13/22 [00:44<00:21,  2.38s/it]"
     ]
    },
    {
     "data": {
      "text/plain": "Retrieving SummaryDoc documents:   0%|          | 0/2902 [00:00<?, ?it/s]",
      "application/vnd.jupyter.widget-view+json": {
       "version_major": 2,
       "version_minor": 0,
       "model_id": "76331e47afd345709a1e69bc07c5988d"
      }
     },
     "metadata": {},
     "output_type": "display_data"
    },
    {
     "name": "stderr",
     "output_type": "stream",
     "text": [
      " 64%|██████▎   | 14/22 [00:45<00:17,  2.14s/it]"
     ]
    },
    {
     "data": {
      "text/plain": "Retrieving SummaryDoc documents:   0%|          | 0/2431 [00:00<?, ?it/s]",
      "application/vnd.jupyter.widget-view+json": {
       "version_major": 2,
       "version_minor": 0,
       "model_id": "76d28b607b084a37b071d252d683caca"
      }
     },
     "metadata": {},
     "output_type": "display_data"
    },
    {
     "name": "stderr",
     "output_type": "stream",
     "text": [
      " 68%|██████▊   | 15/22 [00:48<00:16,  2.37s/it]"
     ]
    },
    {
     "data": {
      "text/plain": "Retrieving SummaryDoc documents:   0%|          | 0/1659 [00:00<?, ?it/s]",
      "application/vnd.jupyter.widget-view+json": {
       "version_major": 2,
       "version_minor": 0,
       "model_id": "5dbc8fd1ad3849158348119c8ca98ca4"
      }
     },
     "metadata": {},
     "output_type": "display_data"
    },
    {
     "name": "stderr",
     "output_type": "stream",
     "text": [
      " 73%|███████▎  | 16/22 [00:51<00:14,  2.34s/it]"
     ]
    },
    {
     "data": {
      "text/plain": "Retrieving SummaryDoc documents:   0%|          | 0/2225 [00:00<?, ?it/s]",
      "application/vnd.jupyter.widget-view+json": {
       "version_major": 2,
       "version_minor": 0,
       "model_id": "8f9e161cabdd4aa3a5b6fe743b6f3fc9"
      }
     },
     "metadata": {},
     "output_type": "display_data"
    },
    {
     "name": "stderr",
     "output_type": "stream",
     "text": [
      " 77%|███████▋  | 17/22 [00:52<00:10,  2.11s/it]"
     ]
    },
    {
     "data": {
      "text/plain": "Retrieving SummaryDoc documents:   0%|          | 0/2318 [00:00<?, ?it/s]",
      "application/vnd.jupyter.widget-view+json": {
       "version_major": 2,
       "version_minor": 0,
       "model_id": "54718f2168b64265a115fe31bdf8d07f"
      }
     },
     "metadata": {},
     "output_type": "display_data"
    },
    {
     "name": "stderr",
     "output_type": "stream",
     "text": [
      " 82%|████████▏ | 18/22 [00:54<00:07,  1.95s/it]"
     ]
    },
    {
     "data": {
      "text/plain": "Retrieving SummaryDoc documents:   0%|          | 0/2164 [00:00<?, ?it/s]",
      "application/vnd.jupyter.widget-view+json": {
       "version_major": 2,
       "version_minor": 0,
       "model_id": "13fae7015db640c6aadfac93b837bfcb"
      }
     },
     "metadata": {},
     "output_type": "display_data"
    },
    {
     "name": "stderr",
     "output_type": "stream",
     "text": [
      " 86%|████████▋ | 19/22 [00:55<00:05,  1.83s/it]"
     ]
    },
    {
     "data": {
      "text/plain": "Retrieving SummaryDoc documents:   0%|          | 0/2208 [00:00<?, ?it/s]",
      "application/vnd.jupyter.widget-view+json": {
       "version_major": 2,
       "version_minor": 0,
       "model_id": "b354ec7189164c9eabc3bbf7a62c26c4"
      }
     },
     "metadata": {},
     "output_type": "display_data"
    },
    {
     "name": "stderr",
     "output_type": "stream",
     "text": [
      " 91%|█████████ | 20/22 [00:58<00:03,  1.97s/it]"
     ]
    },
    {
     "data": {
      "text/plain": "Retrieving SummaryDoc documents:   0%|          | 0/1752 [00:00<?, ?it/s]",
      "application/vnd.jupyter.widget-view+json": {
       "version_major": 2,
       "version_minor": 0,
       "model_id": "2f45fa56419947598fcca994d258a499"
      }
     },
     "metadata": {},
     "output_type": "display_data"
    },
    {
     "name": "stderr",
     "output_type": "stream",
     "text": [
      " 95%|█████████▌| 21/22 [01:00<00:01,  2.00s/it]"
     ]
    },
    {
     "data": {
      "text/plain": "Retrieving SummaryDoc documents:   0%|          | 0/2121 [00:00<?, ?it/s]",
      "application/vnd.jupyter.widget-view+json": {
       "version_major": 2,
       "version_minor": 0,
       "model_id": "876136bd92874f8b816827a19a688d18"
      }
     },
     "metadata": {},
     "output_type": "display_data"
    },
    {
     "name": "stderr",
     "output_type": "stream",
     "text": [
      "100%|██████████| 22/22 [01:01<00:00,  2.80s/it]\n"
     ]
    }
   ],
   "source": [
    "res_dic = {}\n",
    "\n",
    "for ma in tqdm(material_name):\n",
    "    with MPRester(My_api_key) as mpr:\n",
    "        docs = mpr.summary.search(elements=[ma], \n",
    "                                  fields=[\"material_id\", \"band_gap\"])\n",
    "        mpid_bgap_dict = {doc.material_id: doc.band_gap for doc in docs}\n",
    "        res_dic.update({ma: [str(i) for i in mpid_bgap_dict]})"
   ]
  },
  {
   "cell_type": "code",
   "execution_count": 8,
   "id": "0a01e008-1de4-4a90-aed3-c7697a188fcd",
   "metadata": {},
   "outputs": [],
   "source": [
    "mp_id_set = [v for k,v in res_dic.items()]\n",
    "\n",
    "merged_list = []\n",
    "for sublist in mp_id_set:\n",
    "    merged_list.extend(sublist)"
   ]
  },
  {
   "cell_type": "code",
   "execution_count": 9,
   "id": "e6f1844f-57d8-4986-ae8c-8b4ccddc39e3",
   "metadata": {},
   "outputs": [],
   "source": [
    "rm_dup_id = list(set(merged_list)) # 91649 之前 116915"
   ]
  },
  {
   "cell_type": "code",
   "execution_count": 10,
   "id": "d3ae0c7f-2e03-4df6-9d8b-6411c94ffb17",
   "metadata": {},
   "outputs": [
    {
     "data": {
      "text/plain": "(116915, 91649)"
     },
     "execution_count": 10,
     "metadata": {},
     "output_type": "execute_result"
    }
   ],
   "source": [
    "len(merged_list),len(rm_dup_id)"
   ]
  },
  {
   "cell_type": "code",
   "execution_count": 11,
   "id": "9484b8ea-c16a-4935-a514-66d03a9edcd3",
   "metadata": {},
   "outputs": [
    {
     "data": {
      "text/plain": "Retrieving SummaryDoc documents:   0%|          | 0/91649 [00:00<?, ?it/s]",
      "application/vnd.jupyter.widget-view+json": {
       "version_major": 2,
       "version_minor": 0,
       "model_id": "0ff5c37ae57442cc8b119636e1303cb4"
      }
     },
     "metadata": {},
     "output_type": "display_data"
    }
   ],
   "source": [
    "with MPRester(My_api_key) as mpr:\n",
    "    docs = mpr.summary.search(material_ids=rm_dup_id,fields=[\"material_id\",\"composition\", \"symmetry\",\"structure\"])"
   ]
  },
  {
   "cell_type": "code",
   "execution_count": 12,
   "id": "cf0d164b-3dbd-4668-ae2c-e6692501c006",
   "metadata": {
    "tags": []
   },
   "outputs": [
    {
     "data": {
      "text/plain": "\u001B[4m\u001B[1mMPDataDoc<SummaryDoc>\u001B[0;0m\u001B[0;0m(\n\u001B[1mcomposition\u001B[0;0m=Comp: Ce1 Mg15,\n\u001B[1msymmetry\u001B[0;0m=SymmetryData(crystal_system=<CrystalSystem.hex_: 'Hexagonal'>, symbol='P-6m2', number=187, point_group='-6m2', symprec=0.1, version='1.16.2'),\n\u001B[1mmaterial_id\u001B[0;0m=MPID(mp-1023633),\n\u001B[1mstructure\u001B[0;0m=Structure Summary\nLattice\n    abc : 6.530603270035063 6.530536116615483 10.2522719\n angles : 90.0 90.0 120.00071376034111\n volume : 378.660287859956\n      A : 6.53060327 -2.14e-05 0.0\n      B : -3.26531998 5.6555802 -0.0\n      C : 0.0 -0.0 10.2522719\n    pbc : True True True\nPeriodicSite: Ce (-0.0000, 1.8851, 1.2815) [0.1667, 0.3333, 0.1250]\nPeriodicSite: Mg (-0.0000, 1.8852, 6.4077) [0.1667, 0.3333, 0.6250]\nPeriodicSite: Mg (-1.5655, 4.7516, 1.2815) [0.1804, 0.8402, 0.1250]\nPeriodicSite: Mg (-1.6575, 4.6986, 6.4077) [0.1616, 0.8308, 0.6250]\nPeriodicSite: Mg (3.2653, 1.8079, 1.2815) [0.6598, 0.3197, 0.1250]\nPeriodicSite: Mg (3.2653, 1.9140, 6.4077) [0.6692, 0.3384, 0.6250]\nPeriodicSite: Mg (1.5655, 4.7516, 1.2815) [0.6598, 0.8402, 0.1250]\nPeriodicSite: Mg (1.6575, 4.6986, 6.4077) [0.6692, 0.8308, 0.6250]\nPeriodicSite: Mg (1.6381, 0.9394, 3.9096) [0.3339, 0.1661, 0.3813]\nPeriodicSite: Mg (1.6381, 0.9394, 8.9057) [0.3339, 0.1661, 0.8687]\nPeriodicSite: Mg (-0.0000, 3.7768, 3.9096) [0.3339, 0.6678, 0.3813]\nPeriodicSite: Mg (-0.0000, 3.7768, 8.9057) [0.3339, 0.6678, 0.8687]\nPeriodicSite: Mg (4.8925, 0.9394, 3.9096) [0.8322, 0.1661, 0.3813]\nPeriodicSite: Mg (4.8925, 0.9394, 8.9057) [0.8322, 0.1661, 0.8687]\nPeriodicSite: Mg (3.2653, 3.7704, 3.7308) [0.8333, 0.6667, 0.3639]\nPeriodicSite: Mg (3.2653, 3.7704, 9.0845) [0.8333, 0.6667, 0.8861],\n\u001B[1mfields_not_requested\u001B[0;0m=['builder_meta', 'nsites', 'elements', 'nelements', 'composition_reduced', 'formula_pretty', 'formula_anonymous', 'chemsys', 'volume', 'density', 'density_atomic', 'property_name', 'deprecated', 'deprecation_reasons', 'last_updated', 'origins', 'warnings', 'task_ids', 'uncorrected_energy_per_atom', 'energy_per_atom', 'formation_energy_per_atom', 'energy_above_hull', 'is_stable', 'equilibrium_reaction_energy_per_atom', 'decomposes_to', 'xas', 'grain_boundaries', 'band_gap', 'cbm', 'vbm', 'efermi', 'is_gap_direct', 'is_metal', 'es_source_calc_id', 'bandstructure', 'dos', 'dos_energy_up', 'dos_energy_down', 'is_magnetic', 'ordering', 'total_magnetization', 'total_magnetization_normalized_vol', 'total_magnetization_normalized_formula_units', 'num_magnetic_sites', 'num_unique_magnetic_sites', 'types_of_magnetic_species', 'k_voigt', 'k_reuss', 'k_vrh', 'g_voigt', 'g_reuss', 'g_vrh', 'universal_anisotropy', 'homogeneous_poisson', 'e_total', 'e_ionic', 'e_electronic', 'n', 'e_ij_max', 'weighted_surface_energy_EV_PER_ANG2', 'weighted_surface_energy', 'weighted_work_function', 'surface_anisotropy', 'shape_factor', 'has_reconstructed', 'possible_species', 'has_props', 'theoretical', 'database_IDs']\n)"
     },
     "execution_count": 12,
     "metadata": {},
     "output_type": "execute_result"
    }
   ],
   "source": [
    "# docs[1].composition\n",
    "# docs[0].symmetry.number\n",
    "# docs[0].structure.get_space_group_info\n",
    "docs[2]"
   ]
  },
  {
   "attachments": {},
   "cell_type": "markdown",
   "id": "51d22805-5049-47e3-b106-97c21761527e",
   "metadata": {},
   "source": [
    "# 筛选单个 + 筛选其中包含奇数"
   ]
  },
  {
   "cell_type": "code",
   "execution_count": 14,
   "id": "df334f35-3c2e-4982-9f41-5ad2c2cf795e",
   "metadata": {},
   "outputs": [],
   "source": [
    "# import copy\n",
    "# docs_copy = copy.deepcopy(docs)"
   ]
  },
  {
   "cell_type": "code",
   "execution_count": 13,
   "id": "297213de-e4fd-4313-9dee-8e51d1fb1dec",
   "metadata": {
    "tags": []
   },
   "outputs": [
    {
     "name": "stderr",
     "output_type": "stream",
     "text": [
      "91649it [00:00, 218272.21it/s]\n"
     ]
    }
   ],
   "source": [
    "# 筛选出来只有一个material_name中元素的\n",
    "res = {}\n",
    "for num,doc in tqdm(enumerate(docs)):\n",
    "    elements_to_check = str(doc.composition)\n",
    "    num_matches = sum([1 for element in material_name if element in elements_to_check])\n",
    "    if num_matches == 1:\n",
    "        res.update({rm_dup_id[num]:doc})"
   ]
  },
  {
   "cell_type": "code",
   "execution_count": 14,
   "id": "5af305ed-d621-4b71-b982-afcaf15da2f9",
   "metadata": {
    "tags": []
   },
   "outputs": [],
   "source": [
    "res_reformulate = {str(doc.material_id):doc for k,doc in res.items()} # 重新格式化为{id: doc}"
   ]
  },
  {
   "cell_type": "code",
   "execution_count": 15,
   "id": "282b9389-7655-4058-9655-8f4ea04bab15",
   "metadata": {},
   "outputs": [
    {
     "name": "stderr",
     "output_type": "stream",
     "text": [
      "100%|██████████| 91649/91649 [00:00<00:00, 156938.57it/s]\n"
     ]
    }
   ],
   "source": [
    "res = {}\n",
    "odd_number_ma = {}\n",
    "no_odd_ma = {}\n",
    "for doc in tqdm(docs):\n",
    "    my_string = str(doc.composition)\n",
    "\n",
    "    # Define a regular expression pattern to match elements and numbers\n",
    "    pattern = re.compile(r\"([A-Z][a-z]*)(\\d*)\")\n",
    "\n",
    "    # Iterate over matches and extract element and number\n",
    "    ma_set = []\n",
    "    num_set = []\n",
    "    \n",
    "    for match in pattern.finditer(my_string):\n",
    "        element = match.group(1)\n",
    "        number_str = match.group(2)\n",
    "        if number_str:\n",
    "            number = int(number_str)\n",
    "        else:\n",
    "            raise NotImplementedError\n",
    "        \n",
    "        if element in material_name:\n",
    "            ma_set.append(element)\n",
    "            num_set.append(number)\n",
    "    if len(ma_set) == 1:\n",
    "        res.update({str(doc.material_id):doc})\n",
    "        if num_set[0] % 2 == 1:\n",
    "            odd_number_ma.update({str(doc.material_id):doc})"
   ]
  },
  {
   "cell_type": "code",
   "execution_count": 16,
   "id": "4af6619a-f234-4f4c-a1df-4cd671cc99c5",
   "metadata": {},
   "outputs": [],
   "source": [
    "no_odd_ma = {}\n",
    "for k,v in res.items():\n",
    "    if k not in odd_number_ma:\n",
    "        no_odd_ma.update({k:v})"
   ]
  },
  {
   "cell_type": "code",
   "execution_count": 19,
   "id": "8a13c233-1023-4872-bc25-02458918a192",
   "metadata": {},
   "outputs": [],
   "source": [
    "with open(\"save_files/docs.txt\",\"w\") as file:\n",
    "    file.write(str(docs))\n",
    "\n",
    "with open(\"save_files/odd_number_ma.txt\",\"w\") as file:\n",
    "    file.write(str(odd_number_ma))\n",
    "\n",
    "with open(\"save_files/no_odd_ma.txt\",\"w\") as file:\n",
    "    file.write(str(no_odd_ma))"
   ]
  },
  {
   "cell_type": "code",
   "execution_count": 17,
   "id": "df761212-c902-49ad-a334-51c0800e78eb",
   "metadata": {},
   "outputs": [
    {
     "data": {
      "text/plain": "(68116, 18546, 49570)"
     },
     "execution_count": 17,
     "metadata": {},
     "output_type": "execute_result"
    }
   ],
   "source": [
    "len(list(res.keys())),len(list(odd_number_ma.keys())),len(list(no_odd_ma.keys()))"
   ]
  },
  {
   "attachments": {},
   "cell_type": "markdown",
   "id": "c709753a-739a-4b60-b054-526cd91622df",
   "metadata": {},
   "source": [
    "# 下一步"
   ]
  },
  {
   "cell_type": "code",
   "execution_count": 21,
   "id": "ac36e026-e8a1-4b04-951e-1ca5e562872c",
   "metadata": {
    "collapsed": true,
    "jupyter": {
     "outputs_hidden": true
    },
    "tags": []
   },
   "outputs": [],
   "source": [
    "# doctest = list(no_odd_ma.items())[0][1]\n",
    "# my_string = str(doctest.composition)\n",
    "\n",
    "# doctest.structure.sites[0]\n",
    "\n",
    "# doctest.structure"
   ]
  },
  {
   "cell_type": "markdown",
   "source": [
    "## Condition1: 具有空间反演对称性"
   ],
   "metadata": {
    "collapsed": false
   }
  },
  {
   "cell_type": "code",
   "execution_count": 18,
   "id": "91d542d0-a5a4-494a-8973-3806a2fd396c",
   "metadata": {},
   "outputs": [],
   "source": [
    "condition_1 = list(range(47,75)) + list(range(83,89)) + list(range(123,143)) + list(range(147,149)) + list(range(162,168)) \\\n",
    "                + list(range(175,177)) + list(range(191,195)) + list(range(200,207)) + list(range(221,231)) \\\n",
    "                + [2, 10, 11, 12, 13, 14, 15]\n",
    "con1_res = {}\n",
    "# 判断symmetry number是否在列表里，提取在里面的"
   ]
  },
  {
   "cell_type": "code",
   "execution_count": 19,
   "id": "09b904dd-c5fb-4811-8eb4-85f04328433e",
   "metadata": {},
   "outputs": [
    {
     "name": "stderr",
     "output_type": "stream",
     "text": [
      "100%|██████████| 49570/49570 [00:00<00:00, 1025827.54it/s]"
     ]
    },
    {
     "name": "stdout",
     "output_type": "stream",
     "text": [
      "filter length: 31671\n"
     ]
    },
    {
     "name": "stderr",
     "output_type": "stream",
     "text": [
      "\n"
     ]
    }
   ],
   "source": [
    "for k,v in tqdm(no_odd_ma.items()):\n",
    "    if v.symmetry.number in condition_1:\n",
    "        con1_res.update({k:v}) \n",
    "print(f\"filter length: {len(con1_res)}\") # 31671"
   ]
  },
  {
   "cell_type": "markdown",
   "source": [
    "## Condition2: 具有２个磁性原子"
   ],
   "metadata": {
    "collapsed": false
   }
  },
  {
   "cell_type": "code",
   "execution_count": 20,
   "id": "b77af105-c427-4ba0-a35c-d368cc84edda",
   "metadata": {},
   "outputs": [
    {
     "name": "stderr",
     "output_type": "stream",
     "text": [
      "100%|██████████| 31671/31671 [00:00<00:00, 151082.36it/s]"
     ]
    },
    {
     "name": "stdout",
     "output_type": "stream",
     "text": [
      "filter length: 10147\n"
     ]
    },
    {
     "name": "stderr",
     "output_type": "stream",
     "text": [
      "\n"
     ]
    }
   ],
   "source": [
    "# 在condition1的结果中，判断这个Cr元素后面的数字，提取是2的\n",
    "con2_res = {}\n",
    "for k,doc in tqdm(con1_res.items()):\n",
    "    my_string = str(doc.composition)\n",
    "\n",
    "    # Define a regular expression pattern to match elements and numbers\n",
    "    pattern = re.compile(r\"([A-Z][a-z]*)(\\d*)\")\n",
    "\n",
    "    # Iterate over matches and extract element and number\n",
    "    ma_set = []\n",
    "    num_set = []\n",
    "    \n",
    "    for match in pattern.finditer(my_string):\n",
    "        element = match.group(1)\n",
    "        number_str = match.group(2)\n",
    "        if number_str:\n",
    "            number = int(number_str)\n",
    "        else:\n",
    "            raise NotImplementedError\n",
    "        \n",
    "        if element in material_name:\n",
    "            ma_set.append(element)\n",
    "            num_set.append(number)\n",
    "    if len(ma_set) == 1:\n",
    "        res.update({str(doc.material_id):doc})\n",
    "        if num_set[0] == 2:\n",
    "            con2_res.update({k:doc})\n",
    "print(f\"filter length: {len(con2_res)}\") # 10147"
   ]
  },
  {
   "cell_type": "markdown",
   "source": [
    "## Condition3: 磁性原子在空间反演不变点上"
   ],
   "metadata": {
    "collapsed": false
   }
  },
  {
   "cell_type": "code",
   "execution_count": 21,
   "id": "805b2937-0ecd-429b-b337-5dbe10171d43",
   "metadata": {},
   "outputs": [],
   "source": [
    "# 在condition2结果中，提取出至少有一个不在这个里面的\n",
    "condition_3 = [[0.5000, 0.5000, 0.0000],\n",
    "[0.0000, 0.5000, 0.5000],\n",
    "[0.5000, 0.0000, 0.5000],\n",
    "[0.5000, 0.0000, 0.0000],\n",
    "[0.0000, 0.5000, 0.0000],\n",
    "[0.0000, 0.0000, 0.5000],\n",
    "[0.5000, 0.5000, 0.5000],\n",
    "[0.0000, 0.0000, 0.0000]]\n",
    "# condition_3 = [\",\".join(list(map(str,i))) for i in condition_3] # fix0613,需要进行值匹配\n",
    "def match_condition_3(li, thres=0.01):\n",
    "    for i in condition_3:\n",
    "        if (abs(i[0] - li[0]) < thres) and (abs(i[1] - li[1]) < thres) and (abs(i[2] - li[2]) < thres):\n",
    "            return True\n",
    "    return False\n"
   ]
  },
  {
   "cell_type": "code",
   "execution_count": 22,
   "id": "be5b2953-4e1a-4f4b-a8c7-1207ed83bc64",
   "metadata": {},
   "outputs": [
    {
     "name": "stderr",
     "output_type": "stream",
     "text": [
      "100%|██████████| 10147/10147 [00:00<00:00, 46524.82it/s]"
     ]
    },
    {
     "name": "stdout",
     "output_type": "stream",
     "text": [
      "filter length: 7045\n"
     ]
    },
    {
     "name": "stderr",
     "output_type": "stream",
     "text": [
      "\n"
     ]
    }
   ],
   "source": [
    "con3_res = {}\n",
    "for k,doc in tqdm(con2_res.items()):\n",
    "    for site in doc.structure.sites:\n",
    "        # docsite = \",\".join(list(map(str,[site.a, site.b, site.c]))) fix0613\n",
    "        # if docsite not in condition_3:\n",
    "        if not site.specie.as_dict()['element'] in material_name:\n",
    "            continue\n",
    "        docsite = [site.a, site.b, site.c]\n",
    "        if not match_condition_3(docsite):\n",
    "            con3_res.update({k:doc})\n",
    "print(f\"filter length: {len(con3_res)}\") # 7045"
   ]
  },
  {
   "cell_type": "code",
   "execution_count": 23,
   "id": "9180b8c5-ed31-4a72-8449-d42aaef8ff8c",
   "metadata": {},
   "outputs": [],
   "source": [
    "left_res = {}\n",
    "for k,v in con2_res.items():\n",
    "    if k not in con3_res:\n",
    "        left_res.update({k:v})"
   ]
  },
  {
   "cell_type": "code",
   "execution_count": 24,
   "id": "76ab0585-d5d1-4449-b90e-689d6cadba3b",
   "metadata": {},
   "outputs": [
    {
     "data": {
      "text/plain": "3102"
     },
     "execution_count": 24,
     "metadata": {},
     "output_type": "execute_result"
    }
   ],
   "source": [
    "len(left_res)"
   ]
  },
  {
   "cell_type": "code",
   "execution_count": 29,
   "id": "6dea2e3c-5809-44b2-927c-e5a08dfcb62c",
   "metadata": {},
   "outputs": [],
   "source": [
    "# con3_res['mp-1229'].structure.sites[0].specie.as_dict()['element']"
   ]
  },
  {
   "cell_type": "code",
   "execution_count": 25,
   "id": "ba56e7a5-9284-4710-b023-7e2f72c210f9",
   "metadata": {},
   "outputs": [
    {
     "name": "stdout",
     "output_type": "stream",
     "text": [
      "length: 25591\n"
     ]
    }
   ],
   "source": [
    "no_altermaganization = copy.copy(odd_number_ma)\n",
    "no_altermaganization.update(con3_res)\n",
    "print(f\"length: {len(no_altermaganization)}\")"
   ]
  },
  {
   "cell_type": "code",
   "execution_count": 26,
   "id": "44c1aac2-c38d-40d8-a237-2f92810c8666",
   "metadata": {},
   "outputs": [],
   "source": [
    "altermaganization = {}\n",
    "for k,v in res.items():\n",
    "    if k not in no_altermaganization:\n",
    "        altermaganization.update({k:v})"
   ]
  },
  {
   "cell_type": "code",
   "execution_count": 27,
   "id": "d613c4c0-f37c-4f56-9da1-b20292b61d84",
   "metadata": {},
   "outputs": [
    {
     "data": {
      "text/plain": "(42525, 25591)"
     },
     "execution_count": 27,
     "metadata": {},
     "output_type": "execute_result"
    }
   ],
   "source": [
    "len(altermaganization),len(no_altermaganization)"
   ]
  },
  {
   "cell_type": "code",
   "execution_count": 30,
   "outputs": [],
   "source": [
    "import os.path as osp\n",
    "\n",
    "root_dir = '/home/bochengzeng/PythonProjects/crystalGNN/preprocess'\n",
    "output_files = {\n",
    "    'no_alter': osp.join(root_dir, \"save_files/no_altermaganization.txt\"),\n",
    "    'alter': osp.join(root_dir, \"save_files/altermaganization.txt\")\n",
    "}"
   ],
   "metadata": {
    "collapsed": false
   }
  },
  {
   "cell_type": "code",
   "execution_count": 31,
   "id": "865b882c-65cc-45d5-825f-20006e618af9",
   "metadata": {},
   "outputs": [],
   "source": [
    "with open(output_files['no_alter'], \"w\") as file:\n",
    "    file.write(str(no_altermaganization))\n",
    "\n",
    "with open(output_files['alter'],\"w\") as file:\n",
    "    file.write(str(altermaganization))"
   ]
  },
  {
   "cell_type": "code",
   "execution_count": null,
   "outputs": [],
   "source": [],
   "metadata": {
    "collapsed": false
   }
  }
 ],
 "metadata": {
  "kernelspec": {
   "display_name": "Python 3",
   "language": "python",
   "name": "python3"
  },
  "language_info": {
   "codemirror_mode": {
    "name": "ipython",
    "version": 3
   },
   "file_extension": ".py",
   "mimetype": "text/x-python",
   "name": "python",
   "nbconvert_exporter": "python",
   "pygments_lexer": "ipython3",
   "version": "3.8.0"
  }
 },
 "nbformat": 4,
 "nbformat_minor": 5
}
